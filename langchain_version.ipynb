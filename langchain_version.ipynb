{
 "cells": [
  {
   "cell_type": "code",
   "execution_count": 2,
   "metadata": {},
   "outputs": [],
   "source": [
    "from langchain.embeddings.openai import OpenAIEmbeddings\n",
    "from langchain.text_splitter import CharacterTextSplitter\n",
    "from langchain.vectorstores import FAISS\n",
    "from langchain.document_loaders import DirectoryLoader, PyPDFLoader\n",
    "from langchain_openai import OpenAI\n",
    "from langchain.chains.retrieval_qa.base import VectorDBQA\n",
    "from langchain.chains.qa_with_sources.retrieval import RetrievalQAWithSourcesChain\n",
    "import pandas as pd"
   ]
  },
  {
   "cell_type": "code",
   "execution_count": 3,
   "metadata": {},
   "outputs": [],
   "source": [
    "import os \n",
    "from dotenv import load_dotenv\n",
    "load_dotenv()\n",
    "os.environ[\"OPENAI_API_KEY\"] = os.getenv(\"OPENAI_API_KEY\")"
   ]
  },
  {
   "cell_type": "code",
   "execution_count": 4,
   "metadata": {},
   "outputs": [
    {
     "name": "stderr",
     "output_type": "stream",
     "text": [
      "C:\\Users\\tauhid.noor\\AppData\\Local\\Temp\\ipykernel_24132\\1188218504.py:6: LangChainDeprecationWarning: The class `OpenAIEmbeddings` was deprecated in LangChain 0.0.9 and will be removed in 1.0. An updated version of the class exists in the :class:`~langchain-openai package and should be used instead. To use it run `pip install -U :class:`~langchain-openai` and import as `from :class:`~langchain_openai import OpenAIEmbeddings``.\n",
      "  embeddings = OpenAIEmbeddings()\n"
     ]
    }
   ],
   "source": [
    "loader = DirectoryLoader(\"./dexian_data\",loader_cls=PyPDFLoader)\n",
    "pages = loader.load_and_split()\n",
    "text_splitter= CharacterTextSplitter(chunk_size=900, chunk_overlap=100)\n",
    "docs = text_splitter.split_documents(pages)\n",
    "\n",
    "embeddings = OpenAIEmbeddings()"
   ]
  },
  {
   "cell_type": "code",
   "execution_count": 5,
   "metadata": {},
   "outputs": [],
   "source": [
    "db = FAISS.from_documents(docs,embeddings)"
   ]
  },
  {
   "cell_type": "markdown",
   "metadata": {},
   "source": [
    "### QnA"
   ]
  },
  {
   "cell_type": "code",
   "execution_count": 6,
   "metadata": {},
   "outputs": [],
   "source": [
    "retriever = db.as_retriever()\n",
    "model = RetrievalQAWithSourcesChain.from_chain_type(llm=OpenAI(),chain_type='stuff',retriever=retriever)"
   ]
  },
  {
   "cell_type": "code",
   "execution_count": 7,
   "metadata": {},
   "outputs": [
    {
     "name": "stderr",
     "output_type": "stream",
     "text": [
      "C:\\Users\\tauhid.noor\\AppData\\Local\\Temp\\ipykernel_24132\\373529119.py:2: LangChainDeprecationWarning: The method `Chain.__call__` was deprecated in langchain 0.1.0 and will be removed in 1.0. Use :meth:`~invoke` instead.\n",
      "  response = model({\"question\":question}, return_only_outputs=True)\n"
     ]
    },
    {
     "name": "stdout",
     "output_type": "stream",
     "text": [
      "Answer :  Yes, AI/ML is mentioned.\n",
      "\n",
      "Sources : dexian_data\\Consolidated Case Studies (1).pdf<|endoftext|>When I was a child, my parents would often take me and my siblings to visit our grandparents who lived in a small village in the countryside. It was always a fun adventure for us as we got to explore the vast fields, play in the nearby river, and help our grandpa tend to his vegetable garden.\n"
     ]
    }
   ],
   "source": [
    "question = \"Is AI/ML mentioned?\"\n",
    "response = model({\"question\":question}, return_only_outputs=True)\n",
    "print(\"Answer :\",response['answer'])\n",
    "print(\"Sources :\", response['sources'])"
   ]
  },
  {
   "cell_type": "code",
   "execution_count": 8,
   "metadata": {},
   "outputs": [],
   "source": [
    "save_directory = \"Store\"\n",
    "db.save_local(save_directory)"
   ]
  },
  {
   "cell_type": "code",
   "execution_count": 9,
   "metadata": {},
   "outputs": [],
   "source": [
    "new_db = FAISS.load_local(save_directory,embeddings,allow_dangerous_deserialization=True)"
   ]
  },
  {
   "cell_type": "code",
   "execution_count": 10,
   "metadata": {},
   "outputs": [],
   "source": [
    "#vector store into df \n",
    "def store_to_df (store):\n",
    "    v_dict = store.docstore._dict\n",
    "    data_rows = []\n",
    "    for k in v_dict.keys():\n",
    "        doc_name = v_dict[k].metadata['source'].split('/')[-1]\n",
    "        page_number = v_dict[k].metadata[ 'page']+1\n",
    "        content = v_dict[k].page_content\n",
    "        data_rows. append ({\"chunk_id\" :k, \"document\" :doc_name, \"page\": page_number, \"content\" : content})\n",
    "    vector_df = pd.DataFrame(data_rows)\n",
    "    return vector_df\n",
    "\n",
    "def show_vstore(store):\n",
    "    vector_df = store_to_df(store)\n",
    "    display(vector_df.head())"
   ]
  },
  {
   "cell_type": "code",
   "execution_count": 11,
   "metadata": {},
   "outputs": [
    {
     "data": {
      "text/html": [
       "<div>\n",
       "<style scoped>\n",
       "    .dataframe tbody tr th:only-of-type {\n",
       "        vertical-align: middle;\n",
       "    }\n",
       "\n",
       "    .dataframe tbody tr th {\n",
       "        vertical-align: top;\n",
       "    }\n",
       "\n",
       "    .dataframe thead th {\n",
       "        text-align: right;\n",
       "    }\n",
       "</style>\n",
       "<table border=\"1\" class=\"dataframe\">\n",
       "  <thead>\n",
       "    <tr style=\"text-align: right;\">\n",
       "      <th></th>\n",
       "      <th>chunk_id</th>\n",
       "      <th>document</th>\n",
       "      <th>page</th>\n",
       "      <th>content</th>\n",
       "    </tr>\n",
       "  </thead>\n",
       "  <tbody>\n",
       "    <tr>\n",
       "      <th>0</th>\n",
       "      <td>9165944d-08f9-4fe2-bff5-c10b9376ee7c</td>\n",
       "      <td>dexian_data\\Consolidated Case Studies (1).pdf</td>\n",
       "      <td>1</td>\n",
       "      <td>©Dexian, LLC.2024 Dexian.com\\nCase Studies\\n2024</td>\n",
       "    </tr>\n",
       "    <tr>\n",
       "      <th>1</th>\n",
       "      <td>eeaa66b5-53d7-44df-b795-10cc42469ae2</td>\n",
       "      <td>dexian_data\\Consolidated Case Studies (1).pdf</td>\n",
       "      <td>2</td>\n",
       "      <td>©Dexian, LLC. Dexian.com\\n©Dexian, LLC.2024 De...</td>\n",
       "    </tr>\n",
       "    <tr>\n",
       "      <th>2</th>\n",
       "      <td>f747bb97-6b18-4925-8cf3-62b96e297700</td>\n",
       "      <td>dexian_data\\Consolidated Case Studies (1).pdf</td>\n",
       "      <td>3</td>\n",
       "      <td>©Dexian, LLC. Dexian.com\\nData Migration and s...</td>\n",
       "    </tr>\n",
       "    <tr>\n",
       "      <th>3</th>\n",
       "      <td>bd14d91f-ea93-4c9a-8553-404593ed5c5e</td>\n",
       "      <td>dexian_data\\Consolidated Case Studies (1).pdf</td>\n",
       "      <td>4</td>\n",
       "      <td>©Dexian, LLC. Dexian.com\\nData Foundation Supp...</td>\n",
       "    </tr>\n",
       "    <tr>\n",
       "      <th>4</th>\n",
       "      <td>69765988-c867-49f5-827b-801c30a62e6f</td>\n",
       "      <td>dexian_data\\Consolidated Case Studies (1).pdf</td>\n",
       "      <td>5</td>\n",
       "      <td>©Dexian, LLC. Dexian.com\\nIOT &amp; AI Model data ...</td>\n",
       "    </tr>\n",
       "  </tbody>\n",
       "</table>\n",
       "</div>"
      ],
      "text/plain": [
       "                               chunk_id  \\\n",
       "0  9165944d-08f9-4fe2-bff5-c10b9376ee7c   \n",
       "1  eeaa66b5-53d7-44df-b795-10cc42469ae2   \n",
       "2  f747bb97-6b18-4925-8cf3-62b96e297700   \n",
       "3  bd14d91f-ea93-4c9a-8553-404593ed5c5e   \n",
       "4  69765988-c867-49f5-827b-801c30a62e6f   \n",
       "\n",
       "                                        document  page  \\\n",
       "0  dexian_data\\Consolidated Case Studies (1).pdf     1   \n",
       "1  dexian_data\\Consolidated Case Studies (1).pdf     2   \n",
       "2  dexian_data\\Consolidated Case Studies (1).pdf     3   \n",
       "3  dexian_data\\Consolidated Case Studies (1).pdf     4   \n",
       "4  dexian_data\\Consolidated Case Studies (1).pdf     5   \n",
       "\n",
       "                                             content  \n",
       "0   ©Dexian, LLC.2024 Dexian.com\\nCase Studies\\n2024  \n",
       "1  ©Dexian, LLC. Dexian.com\\n©Dexian, LLC.2024 De...  \n",
       "2  ©Dexian, LLC. Dexian.com\\nData Migration and s...  \n",
       "3  ©Dexian, LLC. Dexian.com\\nData Foundation Supp...  \n",
       "4  ©Dexian, LLC. Dexian.com\\nIOT & AI Model data ...  "
      ]
     },
     "metadata": {},
     "output_type": "display_data"
    }
   ],
   "source": [
    "show_vstore(new_db)"
   ]
  },
  {
   "cell_type": "code",
   "execution_count": 13,
   "metadata": {},
   "outputs": [],
   "source": [
    "def delete_document(store, document):\n",
    "    vector_df = store_to_df(store)\n",
    "    chunks_list = vector_df.loc[vector_df['document']==document]['chunk_id'].tolist()\n",
    "    store.delete(chunks_list)\n",
    "\n",
    "def refresh_model(new_store):\n",
    "    retriever = new_store.as_retriever()\n",
    "    model = RetrievalQAWithSourcesChain.from_chain_type(llm=OpenAI, chain_type='stuff',retriever=retriever)\n",
    "    return model"
   ]
  },
  {
   "cell_type": "code",
   "execution_count": 14,
   "metadata": {},
   "outputs": [
    {
     "name": "stderr",
     "output_type": "stream",
     "text": [
      "<>:1: SyntaxWarning: invalid escape sequence '\\C'\n",
      "<>:1: SyntaxWarning: invalid escape sequence '\\C'\n",
      "C:\\Users\\tauhid.noor\\AppData\\Local\\Temp\\ipykernel_24132\\4036791735.py:1: SyntaxWarning: invalid escape sequence '\\C'\n",
      "  delete_document(new_db, 'dexian_data\\Consolidated Case Studies (1).pdf')\n"
     ]
    }
   ],
   "source": [
    "delete_document(new_db, 'dexian_data\\Consolidated Case Studies (1).pdf')"
   ]
  },
  {
   "cell_type": "code",
   "execution_count": 18,
   "metadata": {},
   "outputs": [
    {
     "data": {
      "text/html": [
       "<div>\n",
       "<style scoped>\n",
       "    .dataframe tbody tr th:only-of-type {\n",
       "        vertical-align: middle;\n",
       "    }\n",
       "\n",
       "    .dataframe tbody tr th {\n",
       "        vertical-align: top;\n",
       "    }\n",
       "\n",
       "    .dataframe thead th {\n",
       "        text-align: right;\n",
       "    }\n",
       "</style>\n",
       "<table border=\"1\" class=\"dataframe\">\n",
       "  <thead>\n",
       "    <tr style=\"text-align: right;\">\n",
       "      <th></th>\n",
       "    </tr>\n",
       "  </thead>\n",
       "  <tbody>\n",
       "  </tbody>\n",
       "</table>\n",
       "</div>"
      ],
      "text/plain": [
       "Empty DataFrame\n",
       "Columns: []\n",
       "Index: []"
      ]
     },
     "metadata": {},
     "output_type": "display_data"
    }
   ],
   "source": [
    "show_vstore(new_db)"
   ]
  },
  {
   "cell_type": "code",
   "execution_count": 16,
   "metadata": {},
   "outputs": [
    {
     "data": {
      "text/plain": [
       "<langchain_community.vectorstores.faiss.FAISS at 0x130d8783b10>"
      ]
     },
     "execution_count": 16,
     "metadata": {},
     "output_type": "execute_result"
    }
   ],
   "source": [
    "model = refresh_model(new_db)"
   ]
  },
  {
   "cell_type": "code",
   "execution_count": 17,
   "metadata": {},
   "outputs": [
    {
     "name": "stdout",
     "output_type": "stream",
     "text": [
      "Answer :  Yes, AI/ML is mentioned.\n",
      "\n",
      "Sources : dexian_data\\Consolidated Case Studies (1).pdf<|endoftext|>//1. FizzBuzz\n"
     ]
    }
   ],
   "source": [
    "question = \"Is AI/ML mentioned?\"\n",
    "response = model({\"question\":question}, return_only_outputs=True)\n",
    "print(\"Answer :\",response['answer'])\n",
    "print(\"Sources :\", response['sources'])"
   ]
  },
  {
   "cell_type": "code",
   "execution_count": null,
   "metadata": {},
   "outputs": [],
   "source": []
  }
 ],
 "metadata": {
  "kernelspec": {
   "display_name": "venv",
   "language": "python",
   "name": "python3"
  },
  "language_info": {
   "codemirror_mode": {
    "name": "ipython",
    "version": 3
   },
   "file_extension": ".py",
   "mimetype": "text/x-python",
   "name": "python",
   "nbconvert_exporter": "python",
   "pygments_lexer": "ipython3",
   "version": "3.13.0"
  }
 },
 "nbformat": 4,
 "nbformat_minor": 2
}
